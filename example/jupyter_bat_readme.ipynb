{
 "cells": [
  {
   "cell_type": "code",
   "execution_count": null,
   "id": "e89bf7e5-4f2a-490f-ba8e-160e0fe5cd2d",
   "metadata": {},
   "outputs": [],
   "source": [
    "##%log:1\n",
    "##%runinterm\n",
    "##%term:c:\\Windows\\System32\\cmd.exe /c start bash\n",
    "##%overwritefile\n",
    "##%file:src/test.sh\n",
    "#!/bin/bash\n",
    "ls -al \n"
   ]
  },
  {
   "cell_type": "code",
   "execution_count": 2,
   "id": "19b580f5-a5a5-4f06-a710-c78e07cf42e4",
   "metadata": {},
   "outputs": [
    {
     "name": "stdout",
     "output_type": "stream",
     "text": [
      "[MyBash Kernel] Info:The process :h:\\Jupyter\\jupyter-MyBatch-kernel\\example\\tmpusq5uor9.bat\n",
      "[MyBash Kernel] Info:h:\\Jupyter\\jupyter-MyBatch-kernel\\example\\tmpusq5uor9.bat \n"
     ]
    },
    {
     "data": {
      "text/plain": [
       "\r\n",
       "h:\\Jupyter\\jupyter-MyBatch-kernel\\example>rem ## runinterm \r\n"
      ]
     },
     "metadata": {
      "text/plain": {}
     },
     "output_type": "display_data"
    },
    {
     "data": {
      "text/plain": [
       "\r\n",
       "h:\\Jupyter\\jupyter-MyBatch-kernel\\example>echo \"中文测试\" \r\n",
       "\"中文测试\"\r\n",
       "\r\n",
       "h:\\Jupyter\\jupyter-MyBatch-kernel\\example>dir\r\n"
      ]
     },
     "metadata": {
      "text/plain": {}
     },
     "output_type": "display_data"
    },
    {
     "data": {
      "text/plain": [
       " 驱动器 H 中的卷是 Work\r\n"
      ]
     },
     "metadata": {
      "text/plain": {}
     },
     "output_type": "display_data"
    },
    {
     "data": {
      "text/plain": [
       " 卷的序列号是 000C-1AB1\r\n",
       "\r\n",
       " h:\\Jupyter\\jupyter-MyBatch-kernel\\example 的目录\r\n",
       "\r\n",
       "2021-12-25  07:56    <DIR>          .\r\n"
      ]
     },
     "metadata": {
      "text/plain": {}
     },
     "output_type": "display_data"
    },
    {
     "data": {
      "text/plain": [
       "2021-12-24  18:46    <DIR>          ..\r\n",
       "2021-12-25  07:56             3,806 jupyter_bat_readme.ipynb\r\n",
       "2021-12-24  18:46    <DIR>          src\r\n",
       "2021-12-25  07:56                41 tmpusq5uor9.bat\r\n",
       "               2 个文件          3,847 字节\r\n",
       "               3 个目录 11,941,416,960 可用字节\r\n"
      ]
     },
     "metadata": {
      "text/plain": {}
     },
     "output_type": "display_data"
    },
    {
     "name": "stdout",
     "output_type": "stream",
     "text": [
      "[MyBash Kernel] Info:The process end:5536\n"
     ]
    }
   ],
   "source": [
    "##%log:1\n",
    "rem ## %runinterm\n",
    "echo \"中文测试\"\n",
    "dir"
   ]
  },
  {
   "cell_type": "code",
   "execution_count": null,
   "id": "3c072d04-0882-4385-8585-06755f724af3",
   "metadata": {},
   "outputs": [],
   "source": [
    "//%log:0\n",
    "//%pubcmd:--help\n",
    "///%kcmd:ll -h\n",
    "//%noruncode"
   ]
  }
 ],
 "metadata": {
  "interpreter": {
   "hash": "38bff49347d1e315ffe4e438ca69c956c90694fd6c920dd305da3d1e99520bc7"
  },
  "kernelspec": {
   "display_name": "MyBatch",
   "language": "Batch",
   "name": "mybatch"
  },
  "language_info": {
   "file_extension": ".bat",
   "mimetype": "text/Batch",
   "name": "Batch"
  }
 },
 "nbformat": 4,
 "nbformat_minor": 5
}
